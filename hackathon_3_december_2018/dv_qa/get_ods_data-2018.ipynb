{
 "cells": [
  {
   "cell_type": "code",
   "execution_count": null,
   "metadata": {},
   "outputs": [],
   "source": [
    "import glob\n",
    "import pandas as pd\n",
    "import datetime\n",
    "import json\n",
    "from pandas.io.json import json_normalize\n",
    "import os\n"
   ]
  },
  {
   "cell_type": "code",
   "execution_count": null,
   "metadata": {},
   "outputs": [],
   "source": [
    "# Создаю/обнуляю список файлов \n",
    "files_full_path_list = list()\n",
    "\n",
    "# Путь к корневому каталогу файлов\n",
    "files_path = '/opt/app/data/shared/latest_dump/*/2018-*.json'\n",
    "# files_path = '/opt/app/data/shared/latest_dump/*/2018*.json'"
   ]
  },
  {
   "cell_type": "code",
   "execution_count": null,
   "metadata": {},
   "outputs": [],
   "source": [
    "# Получаю перечень полные пути файлов в подкаталогах\n",
    "for file_name in glob.glob(files_path, recursive=True):\n",
    "    # Добавляю полный путь в список\n",
    "    files_full_path_list.append(file_name)\n",
    "    \n",
    "files_full_path_list.sort()\n",
    "\n",
    "print (datetime.datetime.now().strftime('%Y-%m-%d %H:%M:%S'), 'Количество файлов:', len(files_full_path_list))"
   ]
  },
  {
   "cell_type": "code",
   "execution_count": null,
   "metadata": {},
   "outputs": [],
   "source": [
    "# Создаю пустой dataframe для данных их файлов\n",
    "json_df = pd.DataFrame()"
   ]
  },
  {
   "cell_type": "code",
   "execution_count": null,
   "metadata": {},
   "outputs": [],
   "source": [
    "# Наполняю данными о сообщениях за 2018 год dataframe (33 секунды) без multiprocessing\n",
    "# Переделать на multiprocessing\n",
    "\n",
    "for file in files_full_path_list:\n",
    "    # Читаю файлы в dataframe\n",
    "    data_parsed = json.loads(open(file).read())\n",
    "    df = json_normalize(data_parsed)\n",
    "    # Добавляю имя файла в dataframe для дальнейшего получения даты и названия канал\n",
    "    df.insert(loc=0, column='FILE', value=file)\n",
    "    print (datetime.datetime.now().strftime('%Y-%m-%d %H:%M:%S'), 'Добавляю содержимое файла в dataframe', file, round(os.path.getsize(file_name)/1000/1000,2), 'мегабайт')\n",
    "    json_df = json_df.append(df, ignore_index=True, sort=False)"
   ]
  },
  {
   "cell_type": "code",
   "execution_count": null,
   "metadata": {},
   "outputs": [],
   "source": [
    "# Сохраняю dataframe в csv\n",
    "\n",
    "csv_file_name = '2018_ods_raw_new.csv'\n",
    "csv_file_dir = '/opt/app/data/'\n",
    "csv_file_path = csv_file_dir + csv_file_name\n",
    "\n",
    "# Проверка существует ли файл. Если существует удаляю\n",
    "if os.path.exists(csv_file_path):\n",
    "    os.remove(csv_file_name)\n",
    "   \n",
    "print (datetime.datetime.now().strftime('%Y-%m-%d %H:%M:%S'), 'Добавляю содержимое dataframe в csv', csv_file_path) \n",
    "json_df.to_csv(csv_file_name, sep='|', index=False, encoding='utf-8')\n",
    "\n",
    "print (datetime.datetime.now().strftime('%Y-%m-%d %H:%M:%S'), \\\n",
    "       'Размер csv файла:', \\\n",
    "       round(os.path.getsize(csv_file_path)/1000/1000,2), \\\n",
    "       'Мегабайт')"
   ]
  },
  {
   "cell_type": "code",
   "execution_count": null,
   "metadata": {},
   "outputs": [],
   "source": []
  },
  {
   "cell_type": "code",
   "execution_count": null,
   "metadata": {},
   "outputs": [],
   "source": []
  },
  {
   "cell_type": "code",
   "execution_count": null,
   "metadata": {},
   "outputs": [],
   "source": []
  },
  {
   "cell_type": "code",
   "execution_count": null,
   "metadata": {},
   "outputs": [],
   "source": []
  },
  {
   "cell_type": "code",
   "execution_count": null,
   "metadata": {},
   "outputs": [],
   "source": []
  },
  {
   "cell_type": "code",
   "execution_count": null,
   "metadata": {},
   "outputs": [],
   "source": []
  },
  {
   "cell_type": "code",
   "execution_count": null,
   "metadata": {},
   "outputs": [],
   "source": []
  },
  {
   "cell_type": "code",
   "execution_count": null,
   "metadata": {},
   "outputs": [],
   "source": []
  },
  {
   "cell_type": "code",
   "execution_count": null,
   "metadata": {},
   "outputs": [],
   "source": []
  },
  {
   "cell_type": "code",
   "execution_count": null,
   "metadata": {},
   "outputs": [],
   "source": []
  },
  {
   "cell_type": "code",
   "execution_count": null,
   "metadata": {},
   "outputs": [],
   "source": []
  },
  {
   "cell_type": "code",
   "execution_count": null,
   "metadata": {},
   "outputs": [],
   "source": []
  }
 ],
 "metadata": {
  "kernelspec": {
   "display_name": "Python 3",
   "language": "python",
   "name": "python3"
  },
  "language_info": {
   "codemirror_mode": {
    "name": "ipython",
    "version": 3
   },
   "file_extension": ".py",
   "mimetype": "text/x-python",
   "name": "python",
   "nbconvert_exporter": "python",
   "pygments_lexer": "ipython3",
   "version": "3.7.0"
  }
 },
 "nbformat": 4,
 "nbformat_minor": 2
}
