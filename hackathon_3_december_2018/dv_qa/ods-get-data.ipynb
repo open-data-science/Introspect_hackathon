{
 "cells": [
  {
   "cell_type": "code",
   "execution_count": null,
   "metadata": {},
   "outputs": [],
   "source": [
    "import glob\n",
    "import datetime\n",
    "import pandas as pd\n",
    "import json\n",
    "from pandas.io.json import json_normalize\n",
    "\n",
    "# https://stackoverflow.com/questions/36587211/easiest-way-to-read-csv-files-with-multiprocessing-in-pandas\n",
    "# http://python-3.ru/page/multiprocessing\n",
    "from multiprocessing import Pool\n",
    "\n",
    "import os"
   ]
  },
  {
   "cell_type": "code",
   "execution_count": null,
   "metadata": {},
   "outputs": [],
   "source": [
    "# Создаю/обнуляю список файлов \n",
    "files_full_path_list = list()\n",
    "\n",
    "# Путь к корневому каталогу файлов\n",
    "files_path = '/opt/app/data/shared/latest_dump/*/*.json'\n",
    "# files_path = '/opt/app/data/shared/latest_dump/*/2018*.json'"
   ]
  },
  {
   "cell_type": "code",
   "execution_count": null,
   "metadata": {},
   "outputs": [],
   "source": [
    "# Получаю перечень полных пути файлов в подкаталогах\n",
    "for file_name in glob.glob(files_path, recursive=True):\n",
    "    # Добавляю полный путь в список\n",
    "    files_full_path_list.append(file_name)\n",
    "    \n",
    "files_full_path_list.sort()\n",
    "\n",
    "print (datetime.datetime.now().strftime('%Y-%m-%d %H:%M:%S'), 'Количество файлов:', len(files_full_path_list))"
   ]
  },
  {
   "cell_type": "code",
   "execution_count": null,
   "metadata": {},
   "outputs": [],
   "source": [
    "files_full_path_list[:10]"
   ]
  },
  {
   "cell_type": "code",
   "execution_count": null,
   "metadata": {},
   "outputs": [],
   "source": [
    "json_df = pd.DataFrame()"
   ]
  },
  {
   "cell_type": "code",
   "execution_count": null,
   "metadata": {},
   "outputs": [],
   "source": [
    "# Создаю результирующий dataframe из json файлов с помощью multiprocessing\n",
    "\n",
    "def get_file_data(file):\n",
    "    data_parsed = json.loads(open(file).read())\n",
    "    df = json_normalize(data_parsed)\n",
    "    df.insert(loc=0, column='file', value=file)\n",
    "    return df\n",
    "\n",
    "pool = Pool(processes=10)\n",
    "df_list = pool.map(get_file_data, files_full_path_list)\n",
    "\n",
    "json_df = pd.concat(df_list, ignore_index=True, sort=True)"
   ]
  },
  {
   "cell_type": "code",
   "execution_count": null,
   "metadata": {},
   "outputs": [],
   "source": [
    "# Сохраняю dataframe в csv\n",
    "\n",
    "csv_file_name = 'ods_data.csv'\n",
    "csv_file_dir = './'\n",
    "csv_file_path = csv_file_dir + csv_file_name\n",
    "\n",
    "# Проверка существует ли файл. Если существует удаляю\n",
    "if os.path.exists(csv_file_path):\n",
    "    os.remove(csv_file_name)\n",
    "\n",
    "json_df.to_csv(csv_file_name, sep='|', index=False, encoding='utf-8')\n",
    "\n",
    "print (datetime.datetime.now().strftime('%Y-%m-%d %H:%M:%S'), \\\n",
    "       'Размер csv файла:', \\\n",
    "       round(os.path.getsize(csv_file_path)/(1000*1000.0),2), \\\n",
    "       'Мегабайт')"
   ]
  },
  {
   "cell_type": "code",
   "execution_count": null,
   "metadata": {},
   "outputs": [],
   "source": []
  }
 ],
 "metadata": {
  "kernelspec": {
   "display_name": "Python 3",
   "language": "python",
   "name": "python3"
  },
  "language_info": {
   "codemirror_mode": {
    "name": "ipython",
    "version": 3
   },
   "file_extension": ".py",
   "mimetype": "text/x-python",
   "name": "python",
   "nbconvert_exporter": "python",
   "pygments_lexer": "ipython3",
   "version": "3.7.0"
  }
 },
 "nbformat": 4,
 "nbformat_minor": 2
}
