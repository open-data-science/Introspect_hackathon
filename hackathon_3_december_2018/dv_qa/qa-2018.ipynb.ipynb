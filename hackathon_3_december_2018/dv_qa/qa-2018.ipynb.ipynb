{
 "cells": [
  {
   "cell_type": "markdown",
   "metadata": {},
   "source": [
    "### Количество вопросов по каналам\n",
    "### Количество ответов пользователя по каналам\n",
    "### Стата по лайкам за год:\n",
    "- каких лайков сколько  \n",
    "- самые залайканные посты в открытых каналах (включая максимум :parrot: , :pepe_sad: , :catshake: , :ods: , ...)  "
   ]
  },
  {
   "cell_type": "markdown",
   "metadata": {},
   "source": [
    "### Импорт библиотек"
   ]
  },
  {
   "cell_type": "code",
   "execution_count": null,
   "metadata": {},
   "outputs": [],
   "source": [
    "import glob\n",
    "import pandas as pd\n",
    "import json\n",
    "from pandas.io.json import json_normalize\n",
    "\n",
    "from datetime import datetime\n",
    "\n",
    "import os\n",
    "\n",
    "import re\n",
    "\n",
    "import pymorphy2\n",
    "morph = pymorphy2.MorphAnalyzer()\n",
    "\n",
    "%matplotlib inline\n",
    "import matplotlib.pyplot as plt\n",
    "\n"
   ]
  },
  {
   "cell_type": "code",
   "execution_count": null,
   "metadata": {},
   "outputs": [],
   "source": [
    "print ('Размер файла', round(os.path.getsize('2018_ods_raw.csv')/1000/1000.0,2), 'мегабайт')"
   ]
  },
  {
   "cell_type": "code",
   "execution_count": null,
   "metadata": {},
   "outputs": [],
   "source": [
    "df = pd.read_csv('2018_ods_raw.csv', sep='|', encoding='utf-8', dtype=str)"
   ]
  },
  {
   "cell_type": "code",
   "execution_count": null,
   "metadata": {},
   "outputs": [],
   "source": [
    "# tp = pd.read_csv('2018_ods_raw.csv', sep='|', encoding='utf-8', dtype=str, iterator=True, chunksize=1000)\n",
    "# print (tp)\n",
    "# #<pandas.io.parsers.TextFileReader object at 0x00000000150E0048>\n",
    "# df = pd.concat(tp, ignore_index=True)"
   ]
  },
  {
   "cell_type": "code",
   "execution_count": null,
   "metadata": {},
   "outputs": [],
   "source": [
    "# df.info() "
   ]
  },
  {
   "cell_type": "code",
   "execution_count": null,
   "metadata": {},
   "outputs": [],
   "source": [
    "len(df)"
   ]
  },
  {
   "cell_type": "code",
   "execution_count": null,
   "metadata": {},
   "outputs": [],
   "source": [
    "# Почему в dataframe 55к а в csv 80 !?!??!?!\n",
    "!cat 2018_ods_raw.csv | wc -l"
   ]
  },
  {
   "cell_type": "code",
   "execution_count": null,
   "metadata": {},
   "outputs": [],
   "source": [
    "# Все столбцы таблицы\n",
    "# list(json_df)"
   ]
  },
  {
   "cell_type": "code",
   "execution_count": null,
   "metadata": {},
   "outputs": [],
   "source": [
    "df.tail()"
   ]
  },
  {
   "cell_type": "code",
   "execution_count": null,
   "metadata": {},
   "outputs": [],
   "source": [
    "# Добавляю категорию для сообщений\n",
    "df['cat'] = df['FILE']\n",
    "df['cat'] = df['cat'].str.replace('/opt/app/data/shared/latest_dump/', '')\n",
    "df['cat'] = df['cat'].str.replace('\\/.*','').str.strip()"
   ]
  },
  {
   "cell_type": "code",
   "execution_count": null,
   "metadata": {},
   "outputs": [],
   "source": [
    "df['thread_ts'] = pd.to_datetime(df['thread_ts'], unit='s')\n",
    "df['ts'] = pd.to_datetime(df['ts'], unit='s')"
   ]
  },
  {
   "cell_type": "markdown",
   "metadata": {},
   "source": [
    "# Информация по сообщениям\n",
    "##### Количество сообщений: 55930\n",
    "##### Количество родительских сообщений: 2801\n",
    "##### Количество не пустых родительских сообщений: 2750\n",
    "##### Родительское сообщений набравшее больше всего ответо (246 шт.) https://opendatascience.slack.com/archives/C91N8TL83/p1542103865495600"
   ]
  },
  {
   "cell_type": "code",
   "execution_count": null,
   "metadata": {},
   "outputs": [],
   "source": [
    "# Количество ответов на родительские сообщения \n",
    "df.groupby(['thread_ts'])['thread_ts'].agg('count').sort_values(ascending=False).head()"
   ]
  },
  {
   "cell_type": "code",
   "execution_count": null,
   "metadata": {},
   "outputs": [],
   "source": [
    "# https://opendatascience.slack.com/archives/C91N8TL83/p1542103865495600\n",
    "# df.loc[(df['thread_ts'] == '2018-11-13 10:11:05.495599985') & (df['thread_ts'] == df['ts'])]\n",
    "# https://opendatascience.slack.com/archives/C91N8TL83/p1542103865495600\n",
    "# df.loc[(df['thread_ts'] == '2018-11-14 09:55:01.799499989') & (df['thread_ts'] == df['ts'])]"
   ]
  },
  {
   "cell_type": "code",
   "execution_count": null,
   "metadata": {},
   "outputs": [],
   "source": [
    " df[df.thread_ts.isnull()]"
   ]
  },
  {
   "cell_type": "code",
   "execution_count": null,
   "metadata": {},
   "outputs": [],
   "source": [
    "# Родительские сообщения\n",
    "# Возможно неправильно!?!?!!?\n",
    "# df_parent = df[df.thread_ts == df.ts] # 2801\n",
    "# df_parent = df[df.thread_ts.isnull()] # 26652 из них _random_b 3491 не нашел как связать с ответами\n",
    "# df_parent = df[(df.thread_ts.isnull()) | (df.thread_ts == df.ts)]\n",
    "\n",
    "df_parent = df.loc[(df['thread_ts'] == df['ts'])]\n",
    "\n",
    "print ('Количество сообщений:', len(df))\n",
    "print ('Количество родительских сообщений:', len(df_parent))\n",
    "print ('Среднее количество ответов на родительское сообщение:', round(len(df)/len(df_parent),2))"
   ]
  },
  {
   "cell_type": "code",
   "execution_count": null,
   "metadata": {},
   "outputs": [],
   "source": [
    "# Самые популярные родительские сообщения по количеству ответов\n",
    "# reply_count больше 200 почему то не бывает хотя есть сообщения с большим количеством коментариев\n",
    "\n",
    "# df_parent[['thread_ts', 'cat', 'text', 'reply_count']].sort_values(['reply_count'], ascending=False).head()"
   ]
  },
  {
   "cell_type": "code",
   "execution_count": null,
   "metadata": {},
   "outputs": [],
   "source": [
    "# # df_a.groupby(['cat', 'user']).size().head(10)\n",
    "# df_x = df.loc[df['thread_ts'].isin(df_parent['thread_ts'])]\n",
    "# # df_x[['thread_ts', 'ts', 'cat', 'text', 'reply_count']]\n",
    "# df_x.groupby(['thread_ts'])['thread_ts'].agg('count').sort_values(ascending=False).head()"
   ]
  },
  {
   "cell_type": "code",
   "execution_count": null,
   "metadata": {},
   "outputs": [],
   "source": [
    "# Удаляю сообщения с пустым text\n",
    "# Почему такое бывает не разобрался\n",
    "df_parent = df_parent.dropna(subset=['text'])\n",
    "print ('Количество не пустых родительских сообщений:', len(df_parent))"
   ]
  },
  {
   "cell_type": "code",
   "execution_count": null,
   "metadata": {},
   "outputs": [],
   "source": [
    "# Родительских сообщений по каналам\n",
    "df_parent[['cat','thread_ts']]\\\n",
    "        .groupby(['cat'])['thread_ts'] \\\n",
    "        .count() \\\n",
    "        .reset_index(name='count') \\\n",
    "        .sort_values(['count'], ascending=False) \\\n",
    "        .head()"
   ]
  },
  {
   "cell_type": "markdown",
   "metadata": {},
   "source": [
    "# Информация по заданным вопросам\n",
    "##### Количество родительских сообщений с вопросами: 1840 из 2750\n"
   ]
  },
  {
   "cell_type": "code",
   "execution_count": null,
   "metadata": {},
   "outputs": [],
   "source": [
    "# Добавляю столбец текстом сообщений в номальной форме для того что бы потом искать сообщения с вопросами\n",
    "df_parent['morph_text'] = df_parent['text']"
   ]
  },
  {
   "cell_type": "code",
   "execution_count": null,
   "metadata": {},
   "outputs": [],
   "source": [
    "def to_norm_form(data, column):\n",
    "    full_words_list = []\n",
    "    words_row_list = data[column].tolist()\n",
    "    # Каждую строчку в переданном столбце\n",
    "    for i in range(len(words_row_list)):\n",
    "        # Получаю список слов\n",
    "        words_list = re.sub(\"[^\\w]\", \" \",  words_row_list[i]).split()\n",
    "        # Каждое слово из строки\n",
    "        norm_words_list = []\n",
    "        for word in words_list:\n",
    "            norm_word = morph.parse(word)[0].normal_form\n",
    "            norm_words_list.append(norm_word)\n",
    "        \n",
    "        full_words_string = ' '.join(norm_words_list)\n",
    "        full_words_list.append(full_words_string)\n",
    "        \n",
    "    return full_words_list"
   ]
  },
  {
   "cell_type": "code",
   "execution_count": null,
   "metadata": {},
   "outputs": [],
   "source": [
    "%%time\n",
    "# Запонляю столбец morph_text текстом сообщений в номальной форме для того что бы потом искать сообщения с вопросами\n",
    "df_parent['morph_text'] = to_norm_form(df_parent, 'morph_text')"
   ]
  },
  {
   "cell_type": "code",
   "execution_count": null,
   "metadata": {},
   "outputs": [],
   "source": [
    "df_parent[['text', 'morph_text']].head()"
   ]
  },
  {
   "cell_type": "code",
   "execution_count": null,
   "metadata": {},
   "outputs": [],
   "source": [
    "# Добавляю признак что в тексте был знак вопроса\n",
    "df_parent['found_question_mark'] = df_parent['text'].str.contains('\\?')"
   ]
  },
  {
   "cell_type": "code",
   "execution_count": null,
   "metadata": {},
   "outputs": [],
   "source": [
    "df_parent[['text', 'morph_text', 'found_question_mark']].tail()"
   ]
  },
  {
   "cell_type": "code",
   "execution_count": null,
   "metadata": {},
   "outputs": [],
   "source": [
    "# morph.parse('зачем')[0].normal_form"
   ]
  },
  {
   "cell_type": "code",
   "execution_count": null,
   "metadata": {},
   "outputs": [],
   "source": [
    "# Количество родительских сообщений с вопросами\n",
    "# QUESTION_WORD_LEMMAS = (\"как\", \"как-то\", \"какой\", \"какой-то\", \"зачем\", \"почему\", \"когда\", \"кто\", \"где\", \"когда\", \"куда\", \"куда-то\", \"чот\")\n",
    "#QUESTION_WORDS = ('вопрос', 'обьяснит', 'подсказать', 'посоветовать', 'как') # Количество родительских сообщений с вопросами: 1828\n",
    "QUESTION_WORDS = ('вопрос', 'обьяснит', 'подсказать', 'посоветовать', 'как', 'почему', 'зачем')\n",
    "\n",
    "df_q = df_parent.loc[(df_parent['morph_text'].str.contains('|'.join(QUESTION_WORDS))) | (df_parent.found_question_mark == True)].reset_index()"
   ]
  },
  {
   "cell_type": "code",
   "execution_count": null,
   "metadata": {},
   "outputs": [],
   "source": [
    "print ('Количество родительских сообщений:', len(df_parent))\n",
    "print ('Количество родительских сообщений с вопросами:', len(df_q))"
   ]
  },
  {
   "cell_type": "code",
   "execution_count": null,
   "metadata": {},
   "outputs": [],
   "source": [
    "# Вопросов в родительских сообщениях по каналам\n",
    "df_q[['cat','thread_ts']]\\\n",
    "        .groupby(['cat'])['thread_ts'] \\\n",
    "        .count() \\\n",
    "        .reset_index(name='count') \\\n",
    "        .sort_values(['count'], ascending=False) \\\n",
    "        .head()"
   ]
  },
  {
   "cell_type": "code",
   "execution_count": null,
   "metadata": {},
   "outputs": [],
   "source": [
    "# Вопросов в родительских сообщениях по каналам\n",
    "\n",
    "# df_q = df_q[df_q.cat != '_random_b'] # 5287\n",
    "# df_q = df_q[df_q.cat != 'stack_overflow'] # 456\n",
    "\n",
    "# df_q.groupby(['cat'])['thread_ts'].agg('count').sort_values(ascending=False).head()"
   ]
  },
  {
   "cell_type": "code",
   "execution_count": null,
   "metadata": {},
   "outputs": [],
   "source": [
    "plt.rcParams[\"figure.figsize\"] = (16, 9)\n",
    "\n",
    "df_q.groupby(['cat'])['thread_ts'].agg('count').plot.bar()\n",
    "plt.title('Количество вопросов по каналам за 2018 год (шт.)', loc='center')\n",
    "\n",
    "plt.xlabel('Канал')\n",
    "plt.ylabel('Количество')\n",
    "\n",
    "# plt.savefig('2018-ods-questions.svg', format='svg')\n",
    "plt.savefig('2018-ods-questions.png', bbox_inches = 'tight', dpi=600)\n",
    "# I used 1200 dpi because a lot of scientific journals require images in 1200 / 600 / 300 dpi depending on what the image is of"
   ]
  },
  {
   "cell_type": "markdown",
   "metadata": {},
   "source": [
    "# Информация по ответам на вопросы"
   ]
  },
  {
   "cell_type": "code",
   "execution_count": null,
   "metadata": {},
   "outputs": [],
   "source": [
    "# # reply_count показывает странные цифры\n",
    "\n",
    "# # Ответов на сообщения вопросы по полю reply_count\n",
    "# # df_q[['cat', 'thread_ts', 'text', 'morph_text', 'reply_count']].sort_values('reply_count', ascending=False).head()\n",
    "# df_q[['cat', 'thread_ts', 'reply_count']].sort_values('reply_count', ascending=False).head()"
   ]
  },
  {
   "cell_type": "code",
   "execution_count": null,
   "metadata": {},
   "outputs": [],
   "source": [
    "# df_q.loc[(df_q['thread_ts'] == '2018-11-01 18:36:36.419199944')]"
   ]
  },
  {
   "cell_type": "code",
   "execution_count": null,
   "metadata": {},
   "outputs": [],
   "source": [
    "# df.loc[df['thread_ts'].isin(df_q['thread_ts'])].tail()"
   ]
  },
  {
   "cell_type": "code",
   "execution_count": null,
   "metadata": {},
   "outputs": [],
   "source": [
    "# Ответов по вхождению сообщений пользователей в сообщения вопросы\n",
    "\n",
    "# наверно будет хорошей идеей отфильтровать из ответов на вопросы пользователей которые задали родительский вопрос\n",
    "\n",
    "# df_a = df.loc[df['thread_ts'].isin(df_q['thread_ts'])]\n",
    "# df_a[['cat','thread_ts', 'user']]\\\n",
    "#                         .groupby(['cat', 'thread_ts', 'user'])['thread_ts'] \\\n",
    "#                         .count() \\\n",
    "#                         .reset_index(name='count') \\\n",
    "#                         .sort_values(['count'], ascending=False) \\\n",
    "#                         .head()"
   ]
  },
  {
   "cell_type": "code",
   "execution_count": null,
   "metadata": {},
   "outputs": [],
   "source": [
    "len(df_a)"
   ]
  },
  {
   "cell_type": "code",
   "execution_count": null,
   "metadata": {},
   "outputs": [],
   "source": [
    "# df_q.loc[(df_q['thread_ts'] == '2018-11-16 08:59:45.085799932')]"
   ]
  },
  {
   "cell_type": "code",
   "execution_count": null,
   "metadata": {},
   "outputs": [],
   "source": [
    "# Ответов по вхождению сообщений пользователей в сообщения вопросы\n",
    "# наверно будет хорошей идеей отфильтровать из ответов на вопросы пользователей которые задали родительский вопрос\n",
    "\n",
    "df_a = df.loc[df['thread_ts'].isin(df_q['thread_ts']) & ~df['user'].isin(df_q['user'])]\n",
    "\n",
    "df_a[['cat', 'user']]\\\n",
    "    .groupby(['cat', 'user'])['user'] \\\n",
    "    .count() \\\n",
    "    .reset_index(name='count') \\\n",
    "    .sort_values(['count'], ascending=False) \\\n",
    "    .head()"
   ]
  },
  {
   "cell_type": "code",
   "execution_count": null,
   "metadata": {},
   "outputs": [],
   "source": [
    "len(df_a)"
   ]
  },
  {
   "cell_type": "code",
   "execution_count": null,
   "metadata": {},
   "outputs": [],
   "source": [
    "df_q.tail()"
   ]
  },
  {
   "cell_type": "code",
   "execution_count": null,
   "metadata": {},
   "outputs": [],
   "source": [
    "plt.rcParams[\"figure.figsize\"] = (16, 9)\n",
    "\n",
    "df_a.groupby(['cat'])['cat'].agg('count').plot.bar()\n",
    "plt.title('Количество ответов по каналам за 2018 год (шт.)', loc='center')\n",
    "\n",
    "plt.xlabel('Канал')\n",
    "plt.ylabel('Количество')\n",
    "\n",
    "# plt.savefig('2018-ods-questions.svg', format='svg')\n",
    "plt.savefig('2018-ods-questions.png', bbox_inches = 'tight', dpi=600)\n",
    "# I used 1200 dpi because a lot of scientific journals require images in 1200 / 600 / 300 dpi depending on what the image is of"
   ]
  },
  {
   "cell_type": "code",
   "execution_count": null,
   "metadata": {},
   "outputs": [],
   "source": [
    "users_list = json.loads(open('/opt/app/data/shared/latest_dump/users.json').read())\n",
    "users_df = json_normalize(users_list)\n",
    "\n",
    "# users_df.info()\n",
    "# users_df[['id', 'name']].head()"
   ]
  },
  {
   "cell_type": "code",
   "execution_count": null,
   "metadata": {},
   "outputs": [],
   "source": [
    "df_a = pd.merge(df_a, users_df,  how='left', left_on=['user'], right_on = ['id'])"
   ]
  },
  {
   "cell_type": "code",
   "execution_count": null,
   "metadata": {},
   "outputs": [],
   "source": [
    "# Топ пользователей по ответам на вопросы\n",
    "df_a.groupby(['user', 'name'])['user'].agg('count').reset_index(name='count').sort_values(['count'], ascending=False).head(10)"
   ]
  },
  {
   "cell_type": "code",
   "execution_count": null,
   "metadata": {},
   "outputs": [],
   "source": [
    "plt.rcParams[\"figure.figsize\"] = (16, 9)\n",
    "\n",
    "df_user_replies = df_a.groupby(['user', 'name'])['user'].agg('count').reset_index(name='count').sort_values(['count'], ascending=False).head(50)\n",
    "df_user_replies.set_index('name').plot.bar()\n",
    "\n",
    "plt.title('Топ пользователей по ответам на вопросы за 2018 год (шт.)', loc='center')\n",
    "plt.xlabel('Пользователи')\n",
    "plt.ylabel('Количество ответов на вопросы')\n",
    "\n",
    "# plt.savefig('2018-ods-questions.svg', format='svg')\n",
    "plt.savefig('2018-ods-user-answers.png', bbox_inches = 'tight', dpi=600)\n",
    "# I used 1200 dpi because a lot of scientific journals require images in 1200 / 600 / 300 dpi depending on what the image is of"
   ]
  },
  {
   "cell_type": "code",
   "execution_count": null,
   "metadata": {},
   "outputs": [],
   "source": []
  },
  {
   "cell_type": "code",
   "execution_count": null,
   "metadata": {},
   "outputs": [],
   "source": []
  },
  {
   "cell_type": "code",
   "execution_count": null,
   "metadata": {},
   "outputs": [],
   "source": []
  },
  {
   "cell_type": "code",
   "execution_count": null,
   "metadata": {},
   "outputs": [],
   "source": []
  },
  {
   "cell_type": "code",
   "execution_count": null,
   "metadata": {},
   "outputs": [],
   "source": []
  },
  {
   "cell_type": "code",
   "execution_count": null,
   "metadata": {},
   "outputs": [],
   "source": []
  }
 ],
 "metadata": {
  "kernelspec": {
   "display_name": "Python 3",
   "language": "python",
   "name": "python3"
  },
  "language_info": {
   "codemirror_mode": {
    "name": "ipython",
    "version": 3
   },
   "file_extension": ".py",
   "mimetype": "text/x-python",
   "name": "python",
   "nbconvert_exporter": "python",
   "pygments_lexer": "ipython3",
   "version": "3.7.0"
  }
 },
 "nbformat": 4,
 "nbformat_minor": 2
}
