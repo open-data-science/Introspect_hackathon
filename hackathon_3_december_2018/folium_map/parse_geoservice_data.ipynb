{
 "cells": [
  {
   "cell_type": "code",
   "execution_count": 1,
   "metadata": {},
   "outputs": [],
   "source": [
    "import numpy as np\n",
    "import pandas as pd\n",
    "\n",
    "from geopy.geocoders import Nominatim, Yandex\n",
    "from geopy.exc import GeocoderServiceError, GeocoderTimedOut"
   ]
  },
  {
   "cell_type": "code",
   "execution_count": 2,
   "metadata": {},
   "outputs": [],
   "source": [
    "def update_locations_geodata(geolocator, unique_locations, locations_geodata, bad_locations):\n",
    "    for city in unique_locations:\n",
    "        if (city in locations_geodata) or (city in bad_locations):\n",
    "            continue\n",
    "\n",
    "        try:\n",
    "            location = geolocator.geocode(city)\n",
    "        except GeocoderServiceError as e:\n",
    "            print('GeocoderServiceError: {}'.format(e))\n",
    "            break\n",
    "        except GeocoderTimedOut as e:\n",
    "            print('GeocoderTimedOut: {}'.format(e))\n",
    "            break\n",
    "\n",
    "        if location is None:\n",
    "            bad_locations.append(city)\n",
    "        else:\n",
    "            locations_geodata[city] = location"
   ]
  },
  {
   "cell_type": "code",
   "execution_count": 3,
   "metadata": {},
   "outputs": [
    {
     "data": {
      "text/html": [
       "<div>\n",
       "<style scoped>\n",
       "    .dataframe tbody tr th:only-of-type {\n",
       "        vertical-align: middle;\n",
       "    }\n",
       "\n",
       "    .dataframe tbody tr th {\n",
       "        vertical-align: top;\n",
       "    }\n",
       "\n",
       "    .dataframe thead th {\n",
       "        text-align: right;\n",
       "    }\n",
       "</style>\n",
       "<table border=\"1\" class=\"dataframe\">\n",
       "  <thead>\n",
       "    <tr style=\"text-align: right;\">\n",
       "      <th></th>\n",
       "      <th>id</th>\n",
       "      <th>city</th>\n",
       "    </tr>\n",
       "  </thead>\n",
       "  <tbody>\n",
       "    <tr>\n",
       "      <th>0</th>\n",
       "      <td>UE7T3UC1M</td>\n",
       "      <td>Москва</td>\n",
       "    </tr>\n",
       "    <tr>\n",
       "      <th>1</th>\n",
       "      <td>UE61U6DCL</td>\n",
       "      <td>Москва</td>\n",
       "    </tr>\n",
       "    <tr>\n",
       "      <th>2</th>\n",
       "      <td>UEF068197</td>\n",
       "      <td>Moscow</td>\n",
       "    </tr>\n",
       "    <tr>\n",
       "      <th>3</th>\n",
       "      <td>UE7JRC006</td>\n",
       "      <td>Краснодар</td>\n",
       "    </tr>\n",
       "    <tr>\n",
       "      <th>4</th>\n",
       "      <td>UE7M36F7Y</td>\n",
       "      <td>Samara</td>\n",
       "    </tr>\n",
       "  </tbody>\n",
       "</table>\n",
       "</div>"
      ],
      "text/plain": [
       "          id       city\n",
       "0  UE7T3UC1M     Москва\n",
       "1  UE61U6DCL     Москва\n",
       "2  UEF068197     Moscow\n",
       "3  UE7JRC006  Краснодар\n",
       "4  UE7M36F7Y     Samara"
      ]
     },
     "execution_count": 3,
     "metadata": {},
     "output_type": "execute_result"
    }
   ],
   "source": [
    "user_locations = pd.read_csv('./../user_id_to_from.csv')\n",
    "user_locations.rename({'from': 'city'}, axis=1, inplace=True)\n",
    "user_locations.head()"
   ]
  },
  {
   "cell_type": "code",
   "execution_count": 4,
   "metadata": {},
   "outputs": [
    {
     "data": {
      "text/plain": [
       "(2101,)"
      ]
     },
     "execution_count": 4,
     "metadata": {},
     "output_type": "execute_result"
    }
   ],
   "source": [
    "user_locations['city'].unique().shape"
   ]
  },
  {
   "cell_type": "code",
   "execution_count": 5,
   "metadata": {},
   "outputs": [],
   "source": [
    "locations_geodata = dict()\n",
    "bad_locations = []"
   ]
  },
  {
   "cell_type": "code",
   "execution_count": 44,
   "metadata": {},
   "outputs": [
    {
     "name": "stdout",
     "output_type": "stream",
     "text": [
      "locations_geodata: 2041, bad_locations: 60\n",
      "complete flag: True\n"
     ]
    }
   ],
   "source": [
    "# execute until get all data (remember to geolocator limits!)\n",
    "\n",
    "#geolocator = Nominatim(user_agent='aborisihin')\n",
    "geolocator = Yandex()\n",
    "\n",
    "update_locations_geodata(geolocator, user_locations['city'].unique(), locations_geodata, bad_locations)\n",
    "\n",
    "print('locations_geodata: {}, bad_locations: {}'.format(len(locations_geodata), len(bad_locations)))\n",
    "\n",
    "complete_flag = (len(locations_geodata) + len(bad_locations) == len(user_locations['city'].unique()))\n",
    "print('complete flag: {}'.format(complete_flag))"
   ]
  },
  {
   "cell_type": "code",
   "execution_count": 32,
   "metadata": {},
   "outputs": [],
   "source": [
    "def geodata_value_osm(location_string, key):\n",
    "    if location_string in locations_geodata:\n",
    "        return locations_geodata[location_string].raw[key]\n",
    "    else:\n",
    "        return None\n",
    "    \n",
    "def geodata_value_yandex(location_string, key):\n",
    "    if location_string in locations_geodata:\n",
    "        if (key == 'text') or (key == 'kind'):\n",
    "            return locations_geodata[location_string].raw['metaDataProperty']['GeocoderMetaData'][key]\n",
    "        elif key == 'lat':\n",
    "            return locations_geodata[location_string].raw['Point']['pos'].split(' ')[0]\n",
    "        elif key == 'lon':\n",
    "            return locations_geodata[location_string].raw['Point']['pos'].split(' ')[1]\n",
    "        \n",
    "    return None"
   ]
  },
  {
   "cell_type": "code",
   "execution_count": 33,
   "metadata": {},
   "outputs": [],
   "source": [
    "# OpenStreetMaps\n",
    "# user_locations['geolocation_name'] = user_locations['city'].apply(lambda x: geodata_value_osm(x, 'display_name'))\n",
    "# user_locations['geolocation_type'] = user_locations['city'].apply(lambda x: geodata_value_osm(x, 'type'))\n",
    "# user_locations['geolocation_lat'] = user_locations['city'].apply(lambda x: geodata_value_osm(x, 'lat'))\n",
    "# user_locations['geolocation_lon'] = user_locations['city'].apply(lambda x: geodata_value_osm(x, 'lon'))\n",
    "\n",
    "# Yandex\n",
    "user_locations['geolocation_name'] = user_locations['city'].apply(lambda x: geodata_value_yandex(x, 'text'))\n",
    "user_locations['geolocation_type'] = user_locations['city'].apply(lambda x: geodata_value_yandex(x, 'kind'))\n",
    "user_locations['geolocation_lat'] = user_locations['city'].apply(lambda x: geodata_value_yandex(x, 'lat'))\n",
    "user_locations['geolocation_lon'] = user_locations['city'].apply(lambda x: geodata_value_yandex(x, 'lon'))"
   ]
  },
  {
   "cell_type": "code",
   "execution_count": 39,
   "metadata": {},
   "outputs": [
    {
     "data": {
      "text/html": [
       "<div>\n",
       "<style scoped>\n",
       "    .dataframe tbody tr th:only-of-type {\n",
       "        vertical-align: middle;\n",
       "    }\n",
       "\n",
       "    .dataframe tbody tr th {\n",
       "        vertical-align: top;\n",
       "    }\n",
       "\n",
       "    .dataframe thead th {\n",
       "        text-align: right;\n",
       "    }\n",
       "</style>\n",
       "<table border=\"1\" class=\"dataframe\">\n",
       "  <thead>\n",
       "    <tr style=\"text-align: right;\">\n",
       "      <th></th>\n",
       "      <th>id</th>\n",
       "      <th>city</th>\n",
       "      <th>geolocation_name</th>\n",
       "      <th>geolocation_type</th>\n",
       "      <th>geolocation_lat</th>\n",
       "      <th>geolocation_lon</th>\n",
       "    </tr>\n",
       "  </thead>\n",
       "  <tbody>\n",
       "    <tr>\n",
       "      <th>0</th>\n",
       "      <td>UE7T3UC1M</td>\n",
       "      <td>Москва</td>\n",
       "      <td>Россия, Москва</td>\n",
       "      <td>province</td>\n",
       "      <td>37.622504</td>\n",
       "      <td>55.753215</td>\n",
       "    </tr>\n",
       "    <tr>\n",
       "      <th>1</th>\n",
       "      <td>UE61U6DCL</td>\n",
       "      <td>Москва</td>\n",
       "      <td>Россия, Москва</td>\n",
       "      <td>province</td>\n",
       "      <td>37.622504</td>\n",
       "      <td>55.753215</td>\n",
       "    </tr>\n",
       "    <tr>\n",
       "      <th>2</th>\n",
       "      <td>UEF068197</td>\n",
       "      <td>Moscow</td>\n",
       "      <td>Россия, Москва</td>\n",
       "      <td>locality</td>\n",
       "      <td>37.617635</td>\n",
       "      <td>55.755814</td>\n",
       "    </tr>\n",
       "    <tr>\n",
       "      <th>3</th>\n",
       "      <td>UE7JRC006</td>\n",
       "      <td>Краснодар</td>\n",
       "      <td>Россия, Краснодар</td>\n",
       "      <td>locality</td>\n",
       "      <td>38.975313</td>\n",
       "      <td>45.03547</td>\n",
       "    </tr>\n",
       "    <tr>\n",
       "      <th>4</th>\n",
       "      <td>UE7M36F7Y</td>\n",
       "      <td>Samara</td>\n",
       "      <td>Россия, Самара</td>\n",
       "      <td>locality</td>\n",
       "      <td>50.101783</td>\n",
       "      <td>53.195538</td>\n",
       "    </tr>\n",
       "  </tbody>\n",
       "</table>\n",
       "</div>"
      ],
      "text/plain": [
       "          id       city   geolocation_name geolocation_type geolocation_lat  \\\n",
       "0  UE7T3UC1M     Москва     Россия, Москва         province       37.622504   \n",
       "1  UE61U6DCL     Москва     Россия, Москва         province       37.622504   \n",
       "2  UEF068197     Moscow     Россия, Москва         locality       37.617635   \n",
       "3  UE7JRC006  Краснодар  Россия, Краснодар         locality       38.975313   \n",
       "4  UE7M36F7Y     Samara     Россия, Самара         locality       50.101783   \n",
       "\n",
       "  geolocation_lon  \n",
       "0       55.753215  \n",
       "1       55.753215  \n",
       "2       55.755814  \n",
       "3        45.03547  \n",
       "4       53.195538  "
      ]
     },
     "execution_count": 39,
     "metadata": {},
     "output_type": "execute_result"
    }
   ],
   "source": [
    "user_locations.head()"
   ]
  },
  {
   "cell_type": "code",
   "execution_count": 42,
   "metadata": {},
   "outputs": [],
   "source": [
    "#CSV_PATH = './user_locations_osm.csv'\n",
    "CSV_PATH = './user_locations_yandex.csv'\n",
    "\n",
    "user_locations.to_csv(CSV_PATH, index=False)"
   ]
  },
  {
   "cell_type": "code",
   "execution_count": null,
   "metadata": {},
   "outputs": [],
   "source": []
  }
 ],
 "metadata": {
  "kernelspec": {
   "display_name": "Python 3",
   "language": "python",
   "name": "python3"
  },
  "language_info": {
   "codemirror_mode": {
    "name": "ipython",
    "version": 3
   },
   "file_extension": ".py",
   "mimetype": "text/x-python",
   "name": "python",
   "nbconvert_exporter": "python",
   "pygments_lexer": "ipython3",
   "version": "3.7.0"
  }
 },
 "nbformat": 4,
 "nbformat_minor": 2
}
